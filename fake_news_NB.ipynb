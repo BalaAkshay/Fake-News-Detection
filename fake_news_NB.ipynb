{
 "cells": [
  {
   "cell_type": "code",
   "execution_count": 185,
   "id": "013b8cad-9041-40e8-b5f3-dfa07e410630",
   "metadata": {},
   "outputs": [],
   "source": [
    "import numpy as np\n",
    "import pandas as pd\n",
    "import matplotlib.pyplot as plt\n",
    "import seaborn as sns\n",
    "from sklearn.model_selection import train_test_split, cross_val_predict, cross_val_score\n",
    "from sklearn.naive_bayes import MultinomialNB\n",
    "from sklearn.metrics import accuracy_score, precision_score, recall_score, f1_score, classification_report, confusion_matrix\n",
    "from sklearn.feature_extraction.text import CountVectorizer"
   ]
  },
  {
   "cell_type": "code",
   "execution_count": 2,
   "id": "f107ebf2-3ef7-4673-a6c4-9a6934df8be2",
   "metadata": {},
   "outputs": [],
   "source": [
    "data = pd.read_csv(\"Fake News Detection.csv\")"
   ]
  },
  {
   "cell_type": "code",
   "execution_count": 3,
   "id": "3df3f072-fc67-4565-8048-490b59c523fa",
   "metadata": {},
   "outputs": [],
   "source": [
    "df = pd.DataFrame(data)"
   ]
  },
  {
   "cell_type": "markdown",
   "id": "d5ed9d31-107e-45d9-99db-09fb370e242e",
   "metadata": {},
   "source": [
    "Here 1-'real' 0-'fake'"
   ]
  },
  {
   "cell_type": "code",
   "execution_count": 86,
   "id": "64065aa9-815b-4c6f-a0fe-8bd49a202b5d",
   "metadata": {},
   "outputs": [
    {
     "data": {
      "text/html": [
       "<div>\n",
       "<style scoped>\n",
       "    .dataframe tbody tr th:only-of-type {\n",
       "        vertical-align: middle;\n",
       "    }\n",
       "\n",
       "    .dataframe tbody tr th {\n",
       "        vertical-align: top;\n",
       "    }\n",
       "\n",
       "    .dataframe thead th {\n",
       "        text-align: right;\n",
       "    }\n",
       "</style>\n",
       "<table border=\"1\" class=\"dataframe\">\n",
       "  <thead>\n",
       "    <tr style=\"text-align: right;\">\n",
       "      <th></th>\n",
       "      <th>URLs</th>\n",
       "      <th>Headline</th>\n",
       "      <th>Body</th>\n",
       "      <th>Label</th>\n",
       "    </tr>\n",
       "  </thead>\n",
       "  <tbody>\n",
       "    <tr>\n",
       "      <th>0</th>\n",
       "      <td>http://www.bbc.com/news/world-us-canada-414191...</td>\n",
       "      <td>Four ways Bob Corker skewered Donald Trump</td>\n",
       "      <td>Image copyright Getty Images\\nOn Sunday mornin...</td>\n",
       "      <td>1</td>\n",
       "    </tr>\n",
       "    <tr>\n",
       "      <th>1</th>\n",
       "      <td>https://www.reuters.com/article/us-filmfestiva...</td>\n",
       "      <td>Linklater's war veteran comedy speaks to moder...</td>\n",
       "      <td>LONDON (Reuters) - “Last Flag Flying”, a comed...</td>\n",
       "      <td>1</td>\n",
       "    </tr>\n",
       "    <tr>\n",
       "      <th>2</th>\n",
       "      <td>https://www.nytimes.com/2017/10/09/us/politics...</td>\n",
       "      <td>Trump’s Fight With Corker Jeopardizes His Legi...</td>\n",
       "      <td>The feud broke into public view last week when...</td>\n",
       "      <td>1</td>\n",
       "    </tr>\n",
       "    <tr>\n",
       "      <th>3</th>\n",
       "      <td>https://www.reuters.com/article/us-mexico-oil-...</td>\n",
       "      <td>Egypt's Cheiron wins tie-up with Pemex for Mex...</td>\n",
       "      <td>MEXICO CITY (Reuters) - Egypt’s Cheiron Holdin...</td>\n",
       "      <td>1</td>\n",
       "    </tr>\n",
       "    <tr>\n",
       "      <th>4</th>\n",
       "      <td>http://www.cnn.com/videos/cnnmoney/2017/10/08/...</td>\n",
       "      <td>Jason Aldean opens 'SNL' with Vegas tribute</td>\n",
       "      <td>Country singer Jason Aldean, who was performin...</td>\n",
       "      <td>1</td>\n",
       "    </tr>\n",
       "    <tr>\n",
       "      <th>5</th>\n",
       "      <td>http://beforeitsnews.com/sports/2017/09/jetnat...</td>\n",
       "      <td>JetNation FanDuel League; Week 4</td>\n",
       "      <td>JetNation FanDuel League; Week 4\\n% of readers...</td>\n",
       "      <td>0</td>\n",
       "    </tr>\n",
       "    <tr>\n",
       "      <th>6</th>\n",
       "      <td>https://www.nytimes.com/2017/10/10/us/politics...</td>\n",
       "      <td>Kansas Tried a Tax Plan Similar to Trump’s. It...</td>\n",
       "      <td>In 2012, Kansas lawmakers, led by Gov. Sam Bro...</td>\n",
       "      <td>1</td>\n",
       "    </tr>\n",
       "    <tr>\n",
       "      <th>7</th>\n",
       "      <td>https://www.reuters.com/article/us-india-cenba...</td>\n",
       "      <td>India RBI chief: growth important, but not at ...</td>\n",
       "      <td>The Reserve Bank of India (RBI) Governor Urjit...</td>\n",
       "      <td>1</td>\n",
       "    </tr>\n",
       "    <tr>\n",
       "      <th>8</th>\n",
       "      <td>https://www.reuters.com/article/us-climatechan...</td>\n",
       "      <td>EPA chief to sign rule on Clean Power Plan exi...</td>\n",
       "      <td>Scott Pruitt, Administrator of the U.S. Enviro...</td>\n",
       "      <td>1</td>\n",
       "    </tr>\n",
       "    <tr>\n",
       "      <th>9</th>\n",
       "      <td>https://www.reuters.com/article/us-air-berlin-...</td>\n",
       "      <td>Talks on sale of Air Berlin planes to easyJet ...</td>\n",
       "      <td>FILE PHOTO - An Air Berlin sign is seen at an ...</td>\n",
       "      <td>1</td>\n",
       "    </tr>\n",
       "    <tr>\n",
       "      <th>10</th>\n",
       "      <td>https://www.activistpost.com/2017/09/u-s-presi...</td>\n",
       "      <td>U.S. President Donald Trump Quietly Signs Law ...</td>\n",
       "      <td>By Aaron Kesel\\nAs former White House chief of...</td>\n",
       "      <td>0</td>\n",
       "    </tr>\n",
       "    <tr>\n",
       "      <th>11</th>\n",
       "      <td>http://beforeitsnews.com/sports/2017/10/2017-f...</td>\n",
       "      <td>2017 Fantasy Football Team Defense Rankings - ...</td>\n",
       "      <td>2017 Fantasy Football Team Defense Rankings – ...</td>\n",
       "      <td>0</td>\n",
       "    </tr>\n",
       "    <tr>\n",
       "      <th>12</th>\n",
       "      <td>http://beforeitsnews.com/sports/2017/09/just-s...</td>\n",
       "      <td>Just Shut Up &amp; Play Some Damn Baseball!!</td>\n",
       "      <td>Just Shut Up &amp; Play Some Damn Baseball!!\\n(Bef...</td>\n",
       "      <td>0</td>\n",
       "    </tr>\n",
       "    <tr>\n",
       "      <th>13</th>\n",
       "      <td>https://www.reuters.com/article/us-deloitte-cy...</td>\n",
       "      <td>Deloitte cyber attack affected up to 350 clien...</td>\n",
       "      <td>FILE PHOTO: The Deloitte Company logo is seen ...</td>\n",
       "      <td>1</td>\n",
       "    </tr>\n",
       "    <tr>\n",
       "      <th>14</th>\n",
       "      <td>http://beforeitsnews.com/sports/2017/10/107-ch...</td>\n",
       "      <td>10/7: Chuck Axed; HBD Brickyard, Adam, Moonlig...</td>\n",
       "      <td>A Potato Battery Can Light up a Room for Over ...</td>\n",
       "      <td>0</td>\n",
       "    </tr>\n",
       "    <tr>\n",
       "      <th>15</th>\n",
       "      <td>https://www.nytimes.com/2017/10/04/us/las-vega...</td>\n",
       "      <td>Gunman’s Girlfriend Said She Didn’t Know He Pl...</td>\n",
       "      <td>• The authorities found evidence that the gunm...</td>\n",
       "      <td>1</td>\n",
       "    </tr>\n",
       "    <tr>\n",
       "      <th>16</th>\n",
       "      <td>https://www.nytimes.com/2017/10/04/us/marilou-...</td>\n",
       "      <td>Marilou Danley, Gunman’s Girlfriend, Says She ...</td>\n",
       "      <td>The statement, which was read by her lawyer, M...</td>\n",
       "      <td>1</td>\n",
       "    </tr>\n",
       "    <tr>\n",
       "      <th>17</th>\n",
       "      <td>https://www.nytimes.com/video/us/politics/1000...</td>\n",
       "      <td>Trump’s Immigration Rhetoric Echoes a Bitter F...</td>\n",
       "      <td>In bold documentary style, Retro Report looks ...</td>\n",
       "      <td>1</td>\n",
       "    </tr>\n",
       "    <tr>\n",
       "      <th>18</th>\n",
       "      <td>http://beforeitsnews.com/u-s-politics/2017/10/...</td>\n",
       "      <td>Trump Bemoans ‘Little Appreciation’ As San Jua...</td>\n",
       "      <td>Red Flag Warning: These California Wildfires A...</td>\n",
       "      <td>0</td>\n",
       "    </tr>\n",
       "    <tr>\n",
       "      <th>19</th>\n",
       "      <td>http://beforeitsnews.com/u-s-politics/2017/10/...</td>\n",
       "      <td>In Meeting With Military, Trump Talks Of 'Calm...</td>\n",
       "      <td>In Meeting With Military, Trump Talks Of 'Calm...</td>\n",
       "      <td>0</td>\n",
       "    </tr>\n",
       "  </tbody>\n",
       "</table>\n",
       "</div>"
      ],
      "text/plain": [
       "                                                 URLs  \\\n",
       "0   http://www.bbc.com/news/world-us-canada-414191...   \n",
       "1   https://www.reuters.com/article/us-filmfestiva...   \n",
       "2   https://www.nytimes.com/2017/10/09/us/politics...   \n",
       "3   https://www.reuters.com/article/us-mexico-oil-...   \n",
       "4   http://www.cnn.com/videos/cnnmoney/2017/10/08/...   \n",
       "5   http://beforeitsnews.com/sports/2017/09/jetnat...   \n",
       "6   https://www.nytimes.com/2017/10/10/us/politics...   \n",
       "7   https://www.reuters.com/article/us-india-cenba...   \n",
       "8   https://www.reuters.com/article/us-climatechan...   \n",
       "9   https://www.reuters.com/article/us-air-berlin-...   \n",
       "10  https://www.activistpost.com/2017/09/u-s-presi...   \n",
       "11  http://beforeitsnews.com/sports/2017/10/2017-f...   \n",
       "12  http://beforeitsnews.com/sports/2017/09/just-s...   \n",
       "13  https://www.reuters.com/article/us-deloitte-cy...   \n",
       "14  http://beforeitsnews.com/sports/2017/10/107-ch...   \n",
       "15  https://www.nytimes.com/2017/10/04/us/las-vega...   \n",
       "16  https://www.nytimes.com/2017/10/04/us/marilou-...   \n",
       "17  https://www.nytimes.com/video/us/politics/1000...   \n",
       "18  http://beforeitsnews.com/u-s-politics/2017/10/...   \n",
       "19  http://beforeitsnews.com/u-s-politics/2017/10/...   \n",
       "\n",
       "                                             Headline  \\\n",
       "0          Four ways Bob Corker skewered Donald Trump   \n",
       "1   Linklater's war veteran comedy speaks to moder...   \n",
       "2   Trump’s Fight With Corker Jeopardizes His Legi...   \n",
       "3   Egypt's Cheiron wins tie-up with Pemex for Mex...   \n",
       "4         Jason Aldean opens 'SNL' with Vegas tribute   \n",
       "5                    JetNation FanDuel League; Week 4   \n",
       "6   Kansas Tried a Tax Plan Similar to Trump’s. It...   \n",
       "7   India RBI chief: growth important, but not at ...   \n",
       "8   EPA chief to sign rule on Clean Power Plan exi...   \n",
       "9   Talks on sale of Air Berlin planes to easyJet ...   \n",
       "10  U.S. President Donald Trump Quietly Signs Law ...   \n",
       "11  2017 Fantasy Football Team Defense Rankings - ...   \n",
       "12           Just Shut Up & Play Some Damn Baseball!!   \n",
       "13  Deloitte cyber attack affected up to 350 clien...   \n",
       "14  10/7: Chuck Axed; HBD Brickyard, Adam, Moonlig...   \n",
       "15  Gunman’s Girlfriend Said She Didn’t Know He Pl...   \n",
       "16  Marilou Danley, Gunman’s Girlfriend, Says She ...   \n",
       "17  Trump’s Immigration Rhetoric Echoes a Bitter F...   \n",
       "18  Trump Bemoans ‘Little Appreciation’ As San Jua...   \n",
       "19  In Meeting With Military, Trump Talks Of 'Calm...   \n",
       "\n",
       "                                                 Body  Label  \n",
       "0   Image copyright Getty Images\\nOn Sunday mornin...      1  \n",
       "1   LONDON (Reuters) - “Last Flag Flying”, a comed...      1  \n",
       "2   The feud broke into public view last week when...      1  \n",
       "3   MEXICO CITY (Reuters) - Egypt’s Cheiron Holdin...      1  \n",
       "4   Country singer Jason Aldean, who was performin...      1  \n",
       "5   JetNation FanDuel League; Week 4\\n% of readers...      0  \n",
       "6   In 2012, Kansas lawmakers, led by Gov. Sam Bro...      1  \n",
       "7   The Reserve Bank of India (RBI) Governor Urjit...      1  \n",
       "8   Scott Pruitt, Administrator of the U.S. Enviro...      1  \n",
       "9   FILE PHOTO - An Air Berlin sign is seen at an ...      1  \n",
       "10  By Aaron Kesel\\nAs former White House chief of...      0  \n",
       "11  2017 Fantasy Football Team Defense Rankings – ...      0  \n",
       "12  Just Shut Up & Play Some Damn Baseball!!\\n(Bef...      0  \n",
       "13  FILE PHOTO: The Deloitte Company logo is seen ...      1  \n",
       "14  A Potato Battery Can Light up a Room for Over ...      0  \n",
       "15  • The authorities found evidence that the gunm...      1  \n",
       "16  The statement, which was read by her lawyer, M...      1  \n",
       "17  In bold documentary style, Retro Report looks ...      1  \n",
       "18  Red Flag Warning: These California Wildfires A...      0  \n",
       "19  In Meeting With Military, Trump Talks Of 'Calm...      0  "
      ]
     },
     "execution_count": 86,
     "metadata": {},
     "output_type": "execute_result"
    }
   ],
   "source": [
    "df.head(20)"
   ]
  },
  {
   "cell_type": "code",
   "execution_count": 5,
   "id": "5bbd3341-26a5-489f-bc30-2adb563064ba",
   "metadata": {},
   "outputs": [
    {
     "data": {
      "text/plain": [
       "Index(['URLs', 'Headline', 'Body', 'Label'], dtype='object')"
      ]
     },
     "execution_count": 5,
     "metadata": {},
     "output_type": "execute_result"
    }
   ],
   "source": [
    "df.columns"
   ]
  },
  {
   "cell_type": "code",
   "execution_count": 6,
   "id": "27810c7f-6975-49b0-ba7c-34f8a1f0bceb",
   "metadata": {},
   "outputs": [],
   "source": [
    "df2 = df.dropna()"
   ]
  },
  {
   "cell_type": "code",
   "execution_count": 7,
   "id": "2d6c73bd-104f-4625-a954-9765e9396906",
   "metadata": {},
   "outputs": [],
   "source": [
    "df1 = df2.drop(columns = ['URLs','Headline'])"
   ]
  },
  {
   "cell_type": "code",
   "execution_count": 8,
   "id": "c06ca01f-3757-4f18-a197-6eb62fbb8cb6",
   "metadata": {},
   "outputs": [],
   "source": [
    "X = df1.iloc[:,0]\n",
    "y = df1.iloc[:,1]"
   ]
  },
  {
   "cell_type": "code",
   "execution_count": 167,
   "id": "c24e490d-9b92-4344-a958-5087d16103fd",
   "metadata": {},
   "outputs": [],
   "source": [
    "X_train, X_test, y_train, y_test = train_test_split(X,y,train_size = 0.75, random_state = 1 )"
   ]
  },
  {
   "cell_type": "code",
   "execution_count": 168,
   "id": "247985e4-f52e-4f78-939f-de7de98d60cc",
   "metadata": {},
   "outputs": [],
   "source": [
    "vectorizer = CountVectorizer()"
   ]
  },
  {
   "cell_type": "code",
   "execution_count": 187,
   "id": "19bd41ed-4e53-447a-81b7-b020c7ec4c33",
   "metadata": {},
   "outputs": [],
   "source": [
    "X_vectorized = vectorizer.fit_transform(X)"
   ]
  },
  {
   "cell_type": "code",
   "execution_count": 169,
   "id": "afbaa734-8135-4d15-bb6c-f53095a32532",
   "metadata": {},
   "outputs": [],
   "source": [
    "X_train_vectorized = vectorizer.fit_transform(X_train)\n",
    "X_test_vectorized = vectorizer.transform(X_test)"
   ]
  },
  {
   "cell_type": "code",
   "execution_count": 170,
   "id": "876a0af1-cfa5-4b39-a776-17bfe3ff09c0",
   "metadata": {},
   "outputs": [],
   "source": [
    "nb = MultinomialNB()"
   ]
  },
  {
   "cell_type": "code",
   "execution_count": 171,
   "id": "e4d217fb-cc7b-43d8-b317-95e2e855c9e4",
   "metadata": {},
   "outputs": [
    {
     "data": {
      "text/html": [
       "<style>#sk-container-id-13 {color: black;}#sk-container-id-13 pre{padding: 0;}#sk-container-id-13 div.sk-toggleable {background-color: white;}#sk-container-id-13 label.sk-toggleable__label {cursor: pointer;display: block;width: 100%;margin-bottom: 0;padding: 0.3em;box-sizing: border-box;text-align: center;}#sk-container-id-13 label.sk-toggleable__label-arrow:before {content: \"▸\";float: left;margin-right: 0.25em;color: #696969;}#sk-container-id-13 label.sk-toggleable__label-arrow:hover:before {color: black;}#sk-container-id-13 div.sk-estimator:hover label.sk-toggleable__label-arrow:before {color: black;}#sk-container-id-13 div.sk-toggleable__content {max-height: 0;max-width: 0;overflow: hidden;text-align: left;background-color: #f0f8ff;}#sk-container-id-13 div.sk-toggleable__content pre {margin: 0.2em;color: black;border-radius: 0.25em;background-color: #f0f8ff;}#sk-container-id-13 input.sk-toggleable__control:checked~div.sk-toggleable__content {max-height: 200px;max-width: 100%;overflow: auto;}#sk-container-id-13 input.sk-toggleable__control:checked~label.sk-toggleable__label-arrow:before {content: \"▾\";}#sk-container-id-13 div.sk-estimator input.sk-toggleable__control:checked~label.sk-toggleable__label {background-color: #d4ebff;}#sk-container-id-13 div.sk-label input.sk-toggleable__control:checked~label.sk-toggleable__label {background-color: #d4ebff;}#sk-container-id-13 input.sk-hidden--visually {border: 0;clip: rect(1px 1px 1px 1px);clip: rect(1px, 1px, 1px, 1px);height: 1px;margin: -1px;overflow: hidden;padding: 0;position: absolute;width: 1px;}#sk-container-id-13 div.sk-estimator {font-family: monospace;background-color: #f0f8ff;border: 1px dotted black;border-radius: 0.25em;box-sizing: border-box;margin-bottom: 0.5em;}#sk-container-id-13 div.sk-estimator:hover {background-color: #d4ebff;}#sk-container-id-13 div.sk-parallel-item::after {content: \"\";width: 100%;border-bottom: 1px solid gray;flex-grow: 1;}#sk-container-id-13 div.sk-label:hover label.sk-toggleable__label {background-color: #d4ebff;}#sk-container-id-13 div.sk-serial::before {content: \"\";position: absolute;border-left: 1px solid gray;box-sizing: border-box;top: 0;bottom: 0;left: 50%;z-index: 0;}#sk-container-id-13 div.sk-serial {display: flex;flex-direction: column;align-items: center;background-color: white;padding-right: 0.2em;padding-left: 0.2em;position: relative;}#sk-container-id-13 div.sk-item {position: relative;z-index: 1;}#sk-container-id-13 div.sk-parallel {display: flex;align-items: stretch;justify-content: center;background-color: white;position: relative;}#sk-container-id-13 div.sk-item::before, #sk-container-id-13 div.sk-parallel-item::before {content: \"\";position: absolute;border-left: 1px solid gray;box-sizing: border-box;top: 0;bottom: 0;left: 50%;z-index: -1;}#sk-container-id-13 div.sk-parallel-item {display: flex;flex-direction: column;z-index: 1;position: relative;background-color: white;}#sk-container-id-13 div.sk-parallel-item:first-child::after {align-self: flex-end;width: 50%;}#sk-container-id-13 div.sk-parallel-item:last-child::after {align-self: flex-start;width: 50%;}#sk-container-id-13 div.sk-parallel-item:only-child::after {width: 0;}#sk-container-id-13 div.sk-dashed-wrapped {border: 1px dashed gray;margin: 0 0.4em 0.5em 0.4em;box-sizing: border-box;padding-bottom: 0.4em;background-color: white;}#sk-container-id-13 div.sk-label label {font-family: monospace;font-weight: bold;display: inline-block;line-height: 1.2em;}#sk-container-id-13 div.sk-label-container {text-align: center;}#sk-container-id-13 div.sk-container {/* jupyter's `normalize.less` sets `[hidden] { display: none; }` but bootstrap.min.css set `[hidden] { display: none !important; }` so we also need the `!important` here to be able to override the default hidden behavior on the sphinx rendered scikit-learn.org. See: https://github.com/scikit-learn/scikit-learn/issues/21755 */display: inline-block !important;position: relative;}#sk-container-id-13 div.sk-text-repr-fallback {display: none;}</style><div id=\"sk-container-id-13\" class=\"sk-top-container\"><div class=\"sk-text-repr-fallback\"><pre>MultinomialNB()</pre><b>In a Jupyter environment, please rerun this cell to show the HTML representation or trust the notebook. <br />On GitHub, the HTML representation is unable to render, please try loading this page with nbviewer.org.</b></div><div class=\"sk-container\" hidden><div class=\"sk-item\"><div class=\"sk-estimator sk-toggleable\"><input class=\"sk-toggleable__control sk-hidden--visually\" id=\"sk-estimator-id-13\" type=\"checkbox\" checked><label for=\"sk-estimator-id-13\" class=\"sk-toggleable__label sk-toggleable__label-arrow\">MultinomialNB</label><div class=\"sk-toggleable__content\"><pre>MultinomialNB()</pre></div></div></div></div></div>"
      ],
      "text/plain": [
       "MultinomialNB()"
      ]
     },
     "execution_count": 171,
     "metadata": {},
     "output_type": "execute_result"
    }
   ],
   "source": [
    "nb.fit(X_train_vectorized, y_train)"
   ]
  },
  {
   "cell_type": "code",
   "execution_count": 201,
   "id": "8065343c-ad04-488f-be17-f4a731130c8d",
   "metadata": {},
   "outputs": [],
   "source": [
    "y_pred_cv = cross_val_predict(nb, X_vectorized, y, cv = 6)"
   ]
  },
  {
   "cell_type": "code",
   "execution_count": 202,
   "id": "2c355446-d040-4ca8-9d33-45c6da870056",
   "metadata": {},
   "outputs": [],
   "source": [
    "cm_cv = confusion_matrix(y,y_pred_cv)"
   ]
  },
  {
   "cell_type": "code",
   "execution_count": 203,
   "id": "a87eb8f9-cb22-4950-afae-a969d536a240",
   "metadata": {},
   "outputs": [
    {
     "data": {
      "text/plain": [
       "array([[2041,   79],\n",
       "       [  56, 1812]], dtype=int64)"
      ]
     },
     "execution_count": 203,
     "metadata": {},
     "output_type": "execute_result"
    }
   ],
   "source": [
    "cm_cv"
   ]
  },
  {
   "cell_type": "code",
   "execution_count": 172,
   "id": "f4c00a7d-7cfd-4798-9fce-a423d6bdc3a7",
   "metadata": {},
   "outputs": [],
   "source": [
    "y_pred = nb.predict(X_test_vectorized)"
   ]
  },
  {
   "cell_type": "code",
   "execution_count": 173,
   "id": "51b3f3c0-71b7-4d4a-8ab0-694fecfc07ca",
   "metadata": {},
   "outputs": [],
   "source": [
    "accuracy = accuracy_score(y_test, y_pred)\n",
    "precision = precision_score(y_test, y_pred, pos_label = 0)\n",
    "recall = recall_score(y_test, y_pred, pos_label = 0)\n",
    "f1 = f1_score(y_test, y_pred, pos_label = 0)\n",
    "report = classification_report(y_test, y_pred)"
   ]
  },
  {
   "cell_type": "code",
   "execution_count": 174,
   "id": "4f62dbae-9370-4682-8e92-feb0ecf9e9be",
   "metadata": {},
   "outputs": [
    {
     "data": {
      "text/plain": [
       "0.9598796389167502"
      ]
     },
     "execution_count": 174,
     "metadata": {},
     "output_type": "execute_result"
    }
   ],
   "source": [
    "accuracy"
   ]
  },
  {
   "cell_type": "code",
   "execution_count": 175,
   "id": "dc499e93-d8c1-4580-a200-5f957ee1bf73",
   "metadata": {},
   "outputs": [
    {
     "data": {
      "text/plain": [
       "0.9665354330708661"
      ]
     },
     "execution_count": 175,
     "metadata": {},
     "output_type": "execute_result"
    }
   ],
   "source": [
    "precision"
   ]
  },
  {
   "cell_type": "code",
   "execution_count": 176,
   "id": "a512557e-7d8c-4ba7-a535-74eb36dd9a11",
   "metadata": {},
   "outputs": [
    {
     "data": {
      "text/plain": [
       "0.9552529182879378"
      ]
     },
     "execution_count": 176,
     "metadata": {},
     "output_type": "execute_result"
    }
   ],
   "source": [
    "recall"
   ]
  },
  {
   "cell_type": "code",
   "execution_count": 177,
   "id": "61745f0e-30cd-481c-a4f4-175bd931d1c3",
   "metadata": {},
   "outputs": [
    {
     "data": {
      "text/plain": [
       "0.9608610567514677"
      ]
     },
     "execution_count": 177,
     "metadata": {},
     "output_type": "execute_result"
    }
   ],
   "source": [
    "f1"
   ]
  },
  {
   "cell_type": "code",
   "execution_count": 178,
   "id": "eec065ed-16f4-476d-aac8-82ee5875049f",
   "metadata": {
    "scrolled": true
   },
   "outputs": [
    {
     "data": {
      "text/plain": [
       "'              precision    recall  f1-score   support\\n\\n           0       0.97      0.96      0.96       514\\n           1       0.95      0.96      0.96       483\\n\\n    accuracy                           0.96       997\\n   macro avg       0.96      0.96      0.96       997\\nweighted avg       0.96      0.96      0.96       997\\n'"
      ]
     },
     "execution_count": 178,
     "metadata": {},
     "output_type": "execute_result"
    }
   ],
   "source": [
    "report"
   ]
  },
  {
   "cell_type": "code",
   "execution_count": 181,
   "id": "769d230a-6c04-4386-ad68-38bc084ac40f",
   "metadata": {},
   "outputs": [],
   "source": [
    "cm = confusion_matrix(y_test, y_pred)"
   ]
  },
  {
   "cell_type": "code",
   "execution_count": 183,
   "id": "84b9a9e8-594b-4d70-aae5-129bd5010988",
   "metadata": {},
   "outputs": [
    {
     "data": {
      "text/plain": [
       "array([[491,  23],\n",
       "       [ 17, 466]], dtype=int64)"
      ]
     },
     "execution_count": 183,
     "metadata": {},
     "output_type": "execute_result"
    }
   ],
   "source": [
    "cm"
   ]
  },
  {
   "cell_type": "code",
   "execution_count": 182,
   "id": "68cff512-189a-4570-927c-321b32309cc4",
   "metadata": {},
   "outputs": [
    {
     "data": {
      "image/png": "[encoded data removed]",
      "text/plain": [
       "<Figure size 640x480 with 2 Axes>"
      ]
     },
     "metadata": {},
     "output_type": "display_data"
    }
   ],
   "source": [
    "sns.heatmap(cm, annot=True, fmt='d', cmap='Blues', xticklabels=['Real', 'Fake'], yticklabels=['Real', 'Fake'])\n",
    "plt.ylabel('Actual')\n",
    "plt.xlabel('Predicted')\n",
    "plt.title('Confusion Matrix')\n",
    "plt.show()\n"
   ]
  },
  {
   "cell_type": "code",
   "execution_count": null,
   "id": "b6f984d4-60e8-4fde-a194-63e022263b75",
   "metadata": {},
   "outputs": [],
   "source": []
  },
  {
   "cell_type": "code",
   "execution_count": null,
   "id": "20e1284e-b6f8-4f7a-ab38-2c85b21b41f4",
   "metadata": {},
   "outputs": [],
   "source": []
  }
 ],
 "metadata": {
  "kernelspec": {
   "display_name": "Python 3 (ipykernel)",
   "language": "python",
   "name": "python3"
  },
  "language_info": {
   "codemirror_mode": {
    "name": "ipython",
    "version": 3
   },
   "file_extension": ".py",
   "mimetype": "text/x-python",
   "name": "python",
   "nbconvert_exporter": "python",
   "pygments_lexer": "ipython3",
   "version": "3.12.1"
  }
 },
 "nbformat": 4,
 "nbformat_minor": 5
}
